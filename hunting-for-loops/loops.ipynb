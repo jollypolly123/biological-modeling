{
 "cells": [
  {
   "cell_type": "code",
   "execution_count": 25,
   "metadata": {},
   "outputs": [
    {
     "name": "stdout",
     "output_type": "stream",
     "text": [
      "Requirement already satisfied: igraph in c:\\python310\\lib\\site-packages (0.9.9)\n",
      "Requirement already satisfied: cairocffi in c:\\python310\\lib\\site-packages (1.3.0)\n",
      "Requirement already satisfied: texttable>=1.6.2 in c:\\python310\\lib\\site-packages (from igraph) (1.6.4)\n",
      "Requirement already satisfied: cffi>=1.1.0 in c:\\python310\\lib\\site-packages (from cairocffi) (1.15.0)"
     ]
    },
    {
     "name": "stderr",
     "output_type": "stream",
     "text": [
      "WARNING: Ignoring invalid distribution -ip (c:\\python310\\lib\\site-packages)\n",
      "WARNING: Ignoring invalid distribution -ip (c:\\python310\\lib\\site-packages)\n",
      "WARNING: Ignoring invalid distribution -ip (c:\\python310\\lib\\site-packages)\n",
      "WARNING: Ignoring invalid distribution -ip (c:\\python310\\lib\\site-packages)\n"
     ]
    },
    {
     "name": "stdout",
     "output_type": "stream",
     "text": [
      "\n",
      "Requirement already satisfied: pycparser in c:\\python310\\lib\\site-packages (from cffi>=1.1.0->cairocffi) (2.21)\n"
     ]
    },
    {
     "name": "stderr",
     "output_type": "stream",
     "text": [
      "WARNING: You are using pip version 21.2.4; however, version 22.0.3 is available.\n",
      "You should consider upgrading via the 'C:\\Python310\\python.exe -m pip install --upgrade pip' command.\n"
     ]
    }
   ],
   "source": [
    "import sys\n",
    "!{sys.executable} -m pip install igraph cairocffi"
   ]
  },
  {
   "cell_type": "code",
   "execution_count": 26,
   "metadata": {},
   "outputs": [
    {
     "name": "stdout",
     "output_type": "stream",
     "text": [
      "Number of nodes:  197\n",
      "Number of edges:  477\n",
      "Number of self-loops:  130\n"
     ]
    }
   ],
   "source": [
    "# NOTE: when installing via pip or conda, install python-igraph\n",
    "from igraph import *\n",
    "from network_loader import *\n",
    "import random\n",
    "import cairo\n",
    "\n",
    "txt_file = 'network_tf_tf_clean.txt'\n",
    "\n",
    "network, vertex_names = open_network(txt_file)\n",
    "\n",
    "# how many nodes & edges\n",
    "print(\"Number of nodes: \", len(network.vs))\n",
    "print(\"Number of edges: \", len(network.es))\n",
    "print(\"Number of self-loops: \", sum(Graph.is_loop(network)))\n",
    "\n",
    "# plot(network, vertex_label=vertex_names, vertex_label_size=8,\n",
    "#      edge_arrow_width=1, edge_arrow_size=0.5, autocurve=True)"
   ]
  },
  {
   "cell_type": "code",
   "execution_count": 27,
   "metadata": {},
   "outputs": [
    {
     "name": "stdout",
     "output_type": "stream",
     "text": [
      "Number of nodes:  197\n",
      "Number of edges:  477\n",
      "Number of self-loops:  5\n"
     ]
    }
   ],
   "source": [
    "random.seed(42)\n",
    "g = Graph.Erdos_Renyi(197,m=477,directed=True, loops=True)\n",
    "# plot(g, edge_arrow_width=1, edge_arrow_size=0.5, autocurve=True)\n",
    "\n",
    "# how many nodes & edges\n",
    "print(\"Number of nodes: \", len(g.vs))\n",
    "print(\"Number of edges: \", len(g.es))\n",
    "print(\"Number of self-loops: \", sum(Graph.is_loop(g)))"
   ]
  }
 ],
 "metadata": {
  "interpreter": {
   "hash": "2be5faf79681da6f2a61fdfdd5405d65d042280f7fba6178067603e3a2925119"
  },
  "kernelspec": {
   "display_name": "Python 3.10.0 64-bit",
   "language": "python",
   "name": "python3"
  },
  "language_info": {
   "codemirror_mode": {
    "name": "ipython",
    "version": 3
   },
   "file_extension": ".py",
   "mimetype": "text/x-python",
   "name": "python",
   "nbconvert_exporter": "python",
   "pygments_lexer": "ipython3",
   "version": "3.10.0"
  },
  "orig_nbformat": 4
 },
 "nbformat": 4,
 "nbformat_minor": 2
}
